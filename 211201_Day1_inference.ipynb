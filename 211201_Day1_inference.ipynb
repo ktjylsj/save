{
  "nbformat": 4,
  "nbformat_minor": 0,
  "metadata": {
    "colab": {
      "name": "211201_Day1_inference.ipynb",
      "provenance": [],
      "collapsed_sections": [],
      "authorship_tag": "ABX9TyOxDRrEifKLE4WP09AzBJCI",
      "include_colab_link": true
    },
    "kernelspec": {
      "name": "python3",
      "display_name": "Python 3"
    },
    "language_info": {
      "name": "python"
    },
    "accelerator": "GPU"
  },
  "cells": [
    {
      "cell_type": "markdown",
      "metadata": {
        "id": "view-in-github",
        "colab_type": "text"
      },
      "source": [
        "<a href=\"https://colab.research.google.com/github/ktjylsj/save/blob/master/211201_Day1_inference.ipynb\" target=\"_parent\"><img src=\"https://colab.research.google.com/assets/colab-badge.svg\" alt=\"Open In Colab\"/></a>"
      ]
    },
    {
      "cell_type": "code",
      "metadata": {
        "colab": {
          "base_uri": "https://localhost:8080/"
        },
        "id": "gdp-pgubzFrD",
        "outputId": "927c50c4-70fb-41a9-d419-4ebbf3d800fe"
      },
      "source": [
        "# 꽃의 모양을 인식하는 모델\n",
        "\n",
        "import tensorflow as tf\n",
        "import numpy as np\n",
        "\n",
        "# Hyper Parameter\n",
        "IMAGE_WIDTH=180\n",
        "IMAGE_HEIGHT=180\n",
        "\n",
        "# 테스트 이미지 준비\n",
        "testimage_url = \"file:///content/marguerite-729510__480.jpg\"\n",
        "testimage_file = tf.keras.utils.get_file(\n",
        "    fname=\"testflower\",\n",
        "    origin=testimage_url\n",
        ")\n",
        "\n",
        "testimage = tf.keras.utils.load_img(\n",
        "    path=testimage_file,\n",
        "    target_size=(IMAGE_WIDTH, IMAGE_HEIGHT)\n",
        ")\n",
        "\n",
        "testimage_arr = tf.keras.utils.img_to_array(\n",
        "    img=testimage\n",
        ")\n",
        "\n",
        "testimage_arr = tf.expand_dims(\n",
        "    input=testimage_arr,\n",
        "    axis=0\n",
        ")\n",
        "\n",
        "print(\"주어진 이미지{}의 변환 값은 {}입니다.\".format(testimage_url, testimage_arr.shape))\n",
        "\n",
        "# 저장된 모델 불러오기\n",
        "\n",
        "model = tf.keras.models.load_model(\n",
        "    \"my_flower_model\"\n",
        ")\n",
        "\n",
        "# model.summary()\n",
        "\n",
        "# 추측\n",
        "\n",
        "predictions = model.predict(testimage_arr)\n",
        "print(\"추론결과: {}\".format(predictions[0]))\n",
        "\n",
        "# 결과 해석\n",
        "\n",
        "flower_names = [\"데이지\", \"민들레\", \"장미\", \"해바라기\", \"튤립\"]\n",
        "score = tf.nn.softmax(predictions[0])\n",
        "print(\"추론 확률들: {}\".format(score))\n",
        "\n",
        "idx = np.argmax(score)\n",
        "flower_name = flower_names[idx]\n",
        "print(\"추론 결과: {}\".format(flower_name))\n",
        "print(\"주어진 이미지 {}는 아마도 {}일 것입니다. (확률: {:.2f}%)\".format(testimage_url, flower_name, score[idx] * 100))"
      ],
      "execution_count": null,
      "outputs": [
        {
          "output_type": "stream",
          "name": "stdout",
          "text": [
            "주어진 이미지file:///content/marguerite-729510__480.jpg의 변환 값은 (1, 180, 180, 3)입니다.\n",
            "추론결과: [ 0.9396261  7.447589   5.6915836 -7.2046323  1.1204686]\n",
            "추론 확률들: [1.2682817e-03 8.5033101e-01 1.4688066e-01 3.6830616e-07 1.5196885e-03]\n",
            "추론 결과: 민들레\n",
            "주어진 이미지 file:///content/marguerite-729510__480.jpg는 아마도 민들레일 것입니다. (확률: 85.03%)\n"
          ]
        }
      ]
    },
    {
      "cell_type": "code",
      "metadata": {
        "colab": {
          "base_uri": "https://localhost:8080/"
        },
        "id": "EtRr5f7N48mZ",
        "outputId": "a5c26daa-43c0-4dd6-f09e-8e21c7a6cbac"
      },
      "source": [
        "!unzip /content/my_flower_model.zip"
      ],
      "execution_count": null,
      "outputs": [
        {
          "output_type": "stream",
          "name": "stdout",
          "text": [
            "Archive:  /content/my_flower_model.zip\n",
            "   creating: my_flower_model/\n",
            "   creating: my_flower_model/variables/\n",
            "  inflating: my_flower_model/variables/variables.index  \n",
            "  inflating: my_flower_model/variables/variables.data-00000-of-00001  \n",
            "   creating: my_flower_model/assets/\n",
            "  inflating: my_flower_model/saved_model.pb  \n",
            "  inflating: my_flower_model/keras_metadata.pb  \n"
          ]
        }
      ]
    }
  ]
}