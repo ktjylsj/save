{
  "nbformat": 4,
  "nbformat_minor": 0,
  "metadata": {
    "accelerator": "GPU",
    "colab": {
      "name": "L03-Yolov3(tiny) training",
      "provenance": [],
      "collapsed_sections": [],
      "toc_visible": true,
      "machine_shape": "hm",
      "include_colab_link": true
    },
    "kernelspec": {
      "display_name": "Python 3",
      "name": "python3"
    }
  },
  "cells": [
    {
      "cell_type": "markdown",
      "metadata": {
        "id": "view-in-github",
        "colab_type": "text"
      },
      "source": [
        "<a href=\"https://colab.research.google.com/github/ktjylsj/save/blob/master/L03_Yolov3(tiny)_training.ipynb\" target=\"_parent\"><img src=\"https://colab.research.google.com/assets/colab-badge.svg\" alt=\"Open In Colab\"/></a>"
      ]
    },
    {
      "cell_type": "markdown",
      "metadata": {
        "id": "hMym8rJaa442"
      },
      "source": [
        "##**1. Connect Google Drive to access training dataset**\n",
        "\n",
        "본인 계정의 Google Drive 를 mount 합니다. 이를 통해 file 들을 Google Drive 에 save / load 합니다.<p>\n",
        "Training 에 장시간이 소요되기에 트레이닝 데이터 백업 등에 Google Drive 를 사용하는 것이 좋다. 세부 수행 순서는 아래와 같다.\n",
        "1. 실행 (Google Log-in, Google 계정이 없다면 생성해야 함)\n",
        "2. Go to this URL in a browser 옆의 링크 클릭\n",
        "3. 새로 생성된 web browser 에서 본인 google 계정 선택\n",
        "4. Access 허용\n",
        "5. 생성된 코드 복사\n",
        "6. 아래 Enter your authorization code 에 붙여넣고 enter 버튼을 누른다.\n",
        "7. Mounted at /content/drive 라고 출력되면 된다. "
      ]
    },
    {
      "cell_type": "code",
      "metadata": {
        "id": "lnxPvIriaPoY"
      },
      "source": [
        "from google.colab import drive\n",
        "drive.mount(\"/content/drive\")"
      ],
      "execution_count": null,
      "outputs": []
    },
    {
      "cell_type": "code",
      "metadata": {
        "id": "PkNMgJWpWOx2"
      },
      "source": [
        "!ls /content/drive/MyDrive"
      ],
      "execution_count": null,
      "outputs": []
    },
    {
      "cell_type": "markdown",
      "metadata": {
        "id": "O38l-aoDdulA"
      },
      "source": [
        "## **2. Upload your dataset**"
      ]
    },
    {
      "cell_type": "markdown",
      "metadata": {
        "id": "i9kHzZIQE2un"
      },
      "source": [
        "### **2.1. Google Driver 를 /data 폴더로 symbolic link 로 연결한다.** "
      ]
    },
    {
      "cell_type": "code",
      "metadata": {
        "id": "dYRfLuGAdg_e"
      },
      "source": [
        "!rm -rf /data\n",
        "!mkdir -p data\n",
        "!mkdir -p backup\n",
        "\n",
        "!ln -s \"/content/drive/MyDrive\" /data"
      ],
      "execution_count": null,
      "outputs": []
    },
    {
      "cell_type": "markdown",
      "metadata": {
        "id": "f7QcPNxQEuWE"
      },
      "source": [
        "\n",
        "### **2.2. Training 에 필요한 dataset 을 upload 한다.**\n",
        "\n",
        "이전 과정에서 작업한 파일을 업로드 하면 되며 Downloads 폴더 아래 위치에 있는 파일을 upload 하자.\n",
        "> task_test-xxx-yolo 1.1.zip\n"
      ]
    },
    {
      "cell_type": "code",
      "metadata": {
        "id": "0puMPdc_mlaP"
      },
      "source": [
        "from google.colab import files\n",
        "uploaded = files.upload()"
      ],
      "execution_count": null,
      "outputs": []
    },
    {
      "cell_type": "markdown",
      "metadata": {
        "id": "BWwOhQuRG3Al"
      },
      "source": [
        "Upload 가 완료되면 압축을 풀어준다."
      ]
    },
    {
      "cell_type": "code",
      "metadata": {
        "id": "JG-R5EiLun2e"
      },
      "source": [
        "!ls -la\n",
        "!unzip 'task*.zip'"
      ],
      "execution_count": null,
      "outputs": []
    },
    {
      "cell_type": "code",
      "metadata": {
        "id": "daiGY-hTLVdb"
      },
      "source": [
        "!pwd && ls\n",
        "!cd obj_train_data && ls"
      ],
      "execution_count": null,
      "outputs": []
    },
    {
      "cell_type": "markdown",
      "metadata": {
        "id": "9_JQFSk_3rVC"
      },
      "source": [
        "## **3. Generate required files for YOLOv3**"
      ]
    },
    {
      "cell_type": "code",
      "metadata": {
        "id": "-mnJicQWgDBh"
      },
      "source": [
        "cd /content/obj_train_data"
      ],
      "execution_count": null,
      "outputs": []
    },
    {
      "cell_type": "markdown",
      "metadata": {
        "id": "4flAkbo3HQWb"
      },
      "source": [
        "아래 코드는 Ulload 된 dataset 파일들을 Yolo training 에 맞는 형식으로 변환해 준다.<p>\n",
        "임의로 upload 된 dataset 의 70% 는 training 에, 나머지 30% 는 validaiton 에 사용한다. \n"
      ]
    },
    {
      "cell_type": "code",
      "metadata": {
        "id": "DR7JzV3fhHD4"
      },
      "source": [
        "import glob\n",
        "import os\n",
        "\n",
        "current_dir = os.path.abspath('')\n",
        "print(\"Current DIR:\", current_dir)\n",
        "\n",
        "img_dir = os.path.join(current_dir)\n",
        "\n",
        "file_train = open('train.txt', 'w')\n",
        "file_valid = open('valid.txt', 'w')\n",
        "file_datas = open('obj.data', 'w')\n",
        "\n",
        "counter = 1\n",
        "percentage_test = 30\n",
        "index_test = round(100 / percentage_test)\n",
        "\n",
        "for pathAndFilename in glob.iglob(os.path.join(img_dir, \"*.jpg\")):\n",
        "    title, ext = os.path.splitext(os.path.basename(pathAndFilename))\n",
        "\n",
        "    if counter == index_test:\n",
        "        file_valid.write(img_dir + \"/\" + title + '.jpg' + \"\\n\")\n",
        "        counter = 1\n",
        "    else:\n",
        "        file_train.write(img_dir + \"/\" + title + '.jpg' + \"\\n\")\n",
        "        counter = counter + 1\n",
        "\n",
        "file_datas.write(\"\"\"\\\n",
        "classes = 1\n",
        "train = {0}/train.txt\n",
        "valid = {0}/valid.txt\n",
        "names = {0}/obj.names\n",
        "backup = /data/\n",
        "\"\"\".format(current_dir))\n",
        "\n",
        "file_train.close()\n",
        "file_valid.close()\n",
        "file_datas.close()"
      ],
      "execution_count": null,
      "outputs": []
    },
    {
      "cell_type": "code",
      "metadata": {
        "id": "VgsKRIoyhX-B"
      },
      "source": [
        "!cp /content/obj.names /content/obj_train_data/\n",
        "!cat /content/obj_train_data/obj.names"
      ],
      "execution_count": null,
      "outputs": []
    },
    {
      "cell_type": "code",
      "metadata": {
        "id": "XUrJ09julyUG"
      },
      "source": [
        "!cat /content/obj_train_data/obj.data"
      ],
      "execution_count": null,
      "outputs": []
    },
    {
      "cell_type": "code",
      "metadata": {
        "id": "YIoQ4FwTIBWI"
      },
      "source": [
        "!cat /content/obj_train_data/valid.txt"
      ],
      "execution_count": null,
      "outputs": []
    },
    {
      "cell_type": "markdown",
      "metadata": {
        "id": "S0rmSUKMiNAK"
      },
      "source": [
        "## **4. Clone and Build Darknet**"
      ]
    },
    {
      "cell_type": "markdown",
      "metadata": {
        "id": "eIjCRClJIV7U"
      },
      "source": [
        "Yolo training 에 사용될 코드를 git clone 으로 내려받고 빌드한다. 이때 build option 으로 GPU 를 사용하게 설정한다. "
      ]
    },
    {
      "cell_type": "code",
      "metadata": {
        "id": "bhjTRLskhZSl"
      },
      "source": [
        "cd /content"
      ],
      "execution_count": null,
      "outputs": []
    },
    {
      "cell_type": "code",
      "metadata": {
        "id": "QEz7-NFpiVtJ"
      },
      "source": [
        "!rm -rf darknet && git clone https://github.com/AlexeyAB/darknet.git\n",
        "!sed -i -e 's/GPU=0/GPU=1/g' -e 's/CUDNN=0/CUDNN=1/g' -e 's/OPENCV=0/OPENCV=1/g' darknet/Makefile\n",
        "!cd darknet && make 2>/dev/null"
      ],
      "execution_count": null,
      "outputs": []
    },
    {
      "cell_type": "markdown",
      "metadata": {
        "id": "NxJyZJVowyK_"
      },
      "source": [
        "Build 되는 동안 yolo training 에 사용될 darknet 기반의 코드를 살펴보자. https://github.com/AlexeyAB/darknet.git"
      ]
    },
    {
      "cell_type": "markdown",
      "metadata": {
        "id": "6_Y30q9eidyT"
      },
      "source": [
        "## **5. Start Training**"
      ]
    },
    {
      "cell_type": "code",
      "metadata": {
        "id": "BiOUmTmlkVF2"
      },
      "source": [
        "cd /data"
      ],
      "execution_count": null,
      "outputs": []
    },
    {
      "cell_type": "code",
      "metadata": {
        "id": "XFJluGCUS4rI"
      },
      "source": [
        "!nvidia-smi"
      ],
      "execution_count": null,
      "outputs": []
    },
    {
      "cell_type": "markdown",
      "metadata": {
        "id": "GNI4rrhn8eLx"
      },
      "source": [
        "**\"yolov3-tiny-clp.cfg\"** 파일과 **\"yolov3-tiny-clp_con.weights\"**: 파일 각각을 google drive 에 upload 한다.<p>\n",
        "> 파일 위치: **\\<your demo path\\>/resources/tollgate**\n",
        "\n",
        "아래 colab 에서 upload 하는 방법보다는 google drive 에 바로 upload 하는 것을 속도 측면에서 권장함 >> https://drive.google.com/"
      ]
    },
    {
      "cell_type": "code",
      "metadata": {
        "id": "jEvo3SiRkVJW"
      },
      "source": [
        "from google.colab import files\n",
        "uploaded = files.upload()"
      ],
      "execution_count": null,
      "outputs": []
    },
    {
      "cell_type": "code",
      "metadata": {
        "id": "4OK02bO0aR1E"
      },
      "source": [
        "!ls"
      ],
      "execution_count": null,
      "outputs": []
    },
    {
      "cell_type": "code",
      "metadata": {
        "id": "PiPmd4by0Ji6"
      },
      "source": [
        "!cat yolov3-tiny-clp.cfg"
      ],
      "execution_count": null,
      "outputs": []
    },
    {
      "cell_type": "code",
      "metadata": {
        "id": "rFofbWgAymXe"
      },
      "source": [
        "!ls -lah /content/drive/MyDrive"
      ],
      "execution_count": null,
      "outputs": []
    },
    {
      "cell_type": "markdown",
      "metadata": {
        "id": "IBjhKIA58t-E"
      },
      "source": [
        "실제 darknet 기반으로 Yolo v3 tiny 의 모델 training 을 시작한다. pre-train 된 모델을 기반으로 추가적인 training 을 하기 때문에 약 20분 내외의 시간이 소요된다."
      ]
    },
    {
      "cell_type": "code",
      "metadata": {
        "colab": {
          "background_save": true
        },
        "id": "IG_S_05HkktU"
      },
      "source": [
        "#!cd /content/darknet && ./darknet detector train ../obj_train_data/obj.data /data/yolov3-tiny-clp.cfg /data/yolov3-tiny.conv.15 -dont_show -clear\n",
        "!cd /content/darknet && ./darknet detector train ../obj_train_data/obj.data /data/yolov3-tiny-clp.cfg /data/yolov3-tiny-clp_con.weights -dont_show -clear"
      ],
      "execution_count": null,
      "outputs": []
    },
    {
      "cell_type": "markdown",
      "metadata": {
        "id": "c1VHnOhB7gSE"
      },
      "source": [
        "## **6. Convert YOLO* Models to TensorFlow Model**"
      ]
    },
    {
      "cell_type": "markdown",
      "metadata": {
        "id": "ALdBB_WI_qPf"
      },
      "source": [
        "OpenVINO 2021.2 버전을 설치한다."
      ]
    },
    {
      "cell_type": "code",
      "metadata": {
        "id": "SbxxwhKD1e2i"
      },
      "source": [
        "cd /content"
      ],
      "execution_count": null,
      "outputs": []
    },
    {
      "cell_type": "code",
      "metadata": {
        "id": "x8FUptBj-bSy"
      },
      "source": [
        "!wget https://apt.repos.intel.com/openvino/2021/GPG-PUB-KEY-INTEL-OPENVINO-2021\n",
        "!apt-key add GPG-PUB-KEY-INTEL-OPENVINO-2021\n",
        "!touch /etc/apt/sources.list.d/intel-openvino-2021.list\n",
        "!echo \"deb https://apt.repos.intel.com/openvino/2021 all main\" >> /etc/apt/sources.list.d/intel-openvino-2021.list\n",
        "!apt update\n",
        "#!apt-cache search intel-openvino-dev-ubuntu18\n",
        "!apt install intel-openvino-dev-ubuntu18-2021.2.200"
      ],
      "execution_count": null,
      "outputs": []
    },
    {
      "cell_type": "markdown",
      "metadata": {
        "id": "kxreZMO8_5rm"
      },
      "source": [
        "TensorFlow v1.x 를 설치한다. "
      ]
    },
    {
      "cell_type": "code",
      "metadata": {
        "id": "sAizawG0-pFY"
      },
      "source": [
        "!cd /opt/intel/openvino_2021/deployment_tools/model_optimizer/install_prerequisites && ./install_prerequisites_tf.sh"
      ],
      "execution_count": null,
      "outputs": []
    },
    {
      "cell_type": "markdown",
      "metadata": {
        "id": "O7AfG50JABgO"
      },
      "source": [
        "Darknet model 을 TF 로 변환하기 위한 github repository 를 다운로드 한다. "
      ]
    },
    {
      "cell_type": "code",
      "metadata": {
        "id": "iMwi_wkr8DP4"
      },
      "source": [
        "!git clone https://github.com/mystic123/tensorflow-yolo-v3.git\n",
        "!cd tensorflow-yolo-v3 && git checkout ed60b90"
      ],
      "execution_count": null,
      "outputs": []
    },
    {
      "cell_type": "markdown",
      "metadata": {
        "id": "TDDiunrmALFN"
      },
      "source": [
        "Training 한 darknet 기반의 최종 결과물을 TF 의 frozen 된 모델로 변환 후 google drive 에 저장한다.<br> \n",
        "차후 IR 로 변환하기 위해 google drive 에서 \"**frozen_darknet_yolov3_model.pb**\" 를  로컬로 다운받아 사용하면 된다. "
      ]
    },
    {
      "cell_type": "code",
      "metadata": {
        "id": "GHMGVgIT8KLS"
      },
      "source": [
        "!cd tensorflow-yolo-v3 && \\\n",
        "python3 convert_weights_pb.py --class_names /content/obj_train_data/obj.names --data_format NHWC --weights_file /data/yolov3-tiny-clp_final.weights --tiny"
      ],
      "execution_count": null,
      "outputs": []
    },
    {
      "cell_type": "code",
      "metadata": {
        "id": "KndwK2o744iV"
      },
      "source": [
        "!ls /data/yolo*\n"
      ],
      "execution_count": null,
      "outputs": []
    },
    {
      "cell_type": "code",
      "metadata": {
        "id": "V8OdG_Gj_SR3"
      },
      "source": [
        "!cp /content/tensorflow-yolo-v3/frozen_darknet_yolov3_model.pb /data"
      ],
      "execution_count": null,
      "outputs": []
    },
    {
      "cell_type": "markdown",
      "metadata": {
        "id": "edJ2UHJG2Mgy"
      },
      "source": [
        " Tensorflow frozen format 으로 변환이 완료된 네트워크 모델 (frozen_darknet_yolov3_model.pb) 을 google drive 에서 로컬 PC 로 다운로드 한다. <p>\n",
        " 아래 colab 에서 download 하는 방법보다는 google drive 에 바로 download 하는 것을 속도 측면에서 권장함 >> https://drive.google.com/"
      ]
    }
  ]
}