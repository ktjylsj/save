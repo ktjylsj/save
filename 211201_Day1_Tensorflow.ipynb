{
  "nbformat": 4,
  "nbformat_minor": 0,
  "metadata": {
    "accelerator": "GPU",
    "colab": {
      "name": "211201_Day1_Tensorflow.ipynb",
      "provenance": [],
      "collapsed_sections": [],
      "authorship_tag": "ABX9TyNVPqah+86/odEFgrht+mUv",
      "include_colab_link": true
    },
    "kernelspec": {
      "display_name": "Python 3",
      "name": "python3"
    },
    "language_info": {
      "name": "python"
    }
  },
  "cells": [
    {
      "cell_type": "markdown",
      "metadata": {
        "id": "view-in-github",
        "colab_type": "text"
      },
      "source": [
        "<a href=\"https://colab.research.google.com/github/ktjylsj/save/blob/master/211201_Day1_Tensorflow.ipynb\" target=\"_parent\"><img src=\"https://colab.research.google.com/assets/colab-badge.svg\" alt=\"Open In Colab\"/></a>"
      ]
    },
    {
      "cell_type": "code",
      "metadata": {
        "colab": {
          "base_uri": "https://localhost:8080/"
        },
        "id": "OY2DJV3oQSpw",
        "outputId": "0da4e308-e979-4b44-d240-d3c5ed1a9984"
      },
      "source": [
        "# 꽃의 모양을 인식하는 모델\n",
        "\n",
        "import tensorflow as tf\n",
        "\n",
        "print(tf.__version__)\n",
        "\n",
        "# Hyper Parameter\n",
        "IMAGE_WIDTH = 180\n",
        "IMAGE_HEIGHT = 180\n",
        "BATCH_SIZE = 32\n",
        "RANDOM_SEED = 1234\n",
        "EPOCHS=10\n",
        "\n",
        "# prepare datasets\n",
        "\n",
        "flowerimg_file = tf.keras.utils.get_file(\n",
        "                      fname=\"flower_photos\",\n",
        "                      origin=\"http://download.tensorflow.org/example_images/flower_photos.tgz\",\n",
        "                      untar=True\n",
        "                  )\n",
        "\n",
        "training_ds = tf.keras.utils.image_dataset_from_directory(\n",
        "                      directory=flowerimg_file,\n",
        "                      image_size=(IMAGE_WIDTH, IMAGE_HEIGHT),\n",
        "                      batch_size=BATCH_SIZE,\n",
        "                      seed=RANDOM_SEED,\n",
        "                      validation_split=0.2,\n",
        "                      subset=\"training\"\n",
        "                  )\n",
        "\n",
        "val_ds = tf.keras.utils.image_dataset_from_directory(\n",
        "                      directory=flowerimg_file,\n",
        "                      image_size=(IMAGE_WIDTH, IMAGE_HEIGHT),\n",
        "                      batch_size=BATCH_SIZE,\n",
        "                      seed=RANDOM_SEED,\n",
        "                      validation_split=0.2,\n",
        "                      subset=\"validation\"\n",
        "                  )\n",
        "\n",
        "if training_ds is None or val_ds is None:\n",
        "  print(\"데이터셋을 만드는데 실패했습니다.\")\n",
        "  exit()\n",
        "else:\n",
        "  print(\"{}개의 train 데이터셋과 {}개의 validation 데이터셋을 로드했습니다.\".format(len(training_ds), len(val_ds)))\n",
        "\n",
        "# construct a model\n",
        "\n",
        "model = tf.keras.Sequential() # 모델 생성\n",
        "\n",
        "model.add(tf.keras.layers.Rescaling(1./255, input_shape=(IMAGE_WIDTH, IMAGE_HEIGHT, 3)))  # rescaling : normalization\n",
        "\n",
        "model.add(tf.keras.layers.Conv2D(16, 3, padding=\"same\", activation=\"relu\"))\n",
        "model.add(tf.keras.layers.MaxPool2D())\n",
        "\n",
        "model.add(tf.keras.layers.Conv2D(32, 3, padding=\"same\", activation=\"relu\"))\n",
        "model.add(tf.keras.layers.MaxPool2D())\n",
        "\n",
        "model.add(tf.keras.layers.Conv2D(64, 3, padding=\"same\", activation=\"relu\"))\n",
        "model.add(tf.keras.layers.MaxPool2D())\n",
        "\n",
        "model.add(tf.keras.layers.Flatten())\n",
        "#model.add(tf.keras.layers.Dropout(0.2))\n",
        "model.add(tf.keras.layers.Dense(128, activation=\"relu\"))\n",
        "model.add(tf.keras.layers.Dense(5))\n",
        "\n",
        "model.summary()\n",
        "\n",
        "# compile the model\n",
        "\n",
        "model.compile(optimizer=\"adam\", loss=tf.keras.losses.SparseCategoricalCrossentropy(from_logits=True), metrics=[\"accuracy\"])\n",
        "\n",
        "# train & evaluate\n",
        "\n",
        "model.fit(x=training_ds, validation_data=val_ds, epochs=EPOCHS)\n",
        "\n",
        "# save the model\n",
        "\n",
        "model.save(\n",
        "    filepath=\"my_flower_model\",\n",
        "    save_format=\"tf\"\n",
        ")\n"
      ],
      "execution_count": 2,
      "outputs": [
        {
          "output_type": "stream",
          "name": "stdout",
          "text": [
            "2.7.0\n",
            "Found 3670 files belonging to 5 classes.\n",
            "Using 2936 files for training.\n",
            "Found 3670 files belonging to 5 classes.\n",
            "Using 734 files for validation.\n",
            "92개의 train 데이터셋과 23개의 validation 데이터셋을 로드했습니다.\n",
            "Model: \"sequential_1\"\n",
            "_________________________________________________________________\n",
            " Layer (type)                Output Shape              Param #   \n",
            "=================================================================\n",
            " rescaling_1 (Rescaling)     (None, 180, 180, 3)       0         \n",
            "                                                                 \n",
            " conv2d_3 (Conv2D)           (None, 180, 180, 16)      448       \n",
            "                                                                 \n",
            " max_pooling2d_3 (MaxPooling  (None, 90, 90, 16)       0         \n",
            " 2D)                                                             \n",
            "                                                                 \n",
            " conv2d_4 (Conv2D)           (None, 90, 90, 32)        4640      \n",
            "                                                                 \n",
            " max_pooling2d_4 (MaxPooling  (None, 45, 45, 32)       0         \n",
            " 2D)                                                             \n",
            "                                                                 \n",
            " conv2d_5 (Conv2D)           (None, 45, 45, 64)        18496     \n",
            "                                                                 \n",
            " max_pooling2d_5 (MaxPooling  (None, 22, 22, 64)       0         \n",
            " 2D)                                                             \n",
            "                                                                 \n",
            " flatten_1 (Flatten)         (None, 30976)             0         \n",
            "                                                                 \n",
            " dense_2 (Dense)             (None, 128)               3965056   \n",
            "                                                                 \n",
            " dense_3 (Dense)             (None, 5)                 645       \n",
            "                                                                 \n",
            "=================================================================\n",
            "Total params: 3,989,285\n",
            "Trainable params: 3,989,285\n",
            "Non-trainable params: 0\n",
            "_________________________________________________________________\n",
            "Epoch 1/10\n",
            "92/92 [==============================] - 9s 87ms/step - loss: 1.3516 - accuracy: 0.4237 - val_loss: 1.0725 - val_accuracy: 0.5531\n",
            "Epoch 2/10\n",
            "92/92 [==============================] - 8s 85ms/step - loss: 1.0114 - accuracy: 0.5933 - val_loss: 0.9758 - val_accuracy: 0.6376\n",
            "Epoch 3/10\n",
            "92/92 [==============================] - 8s 83ms/step - loss: 0.8070 - accuracy: 0.6901 - val_loss: 0.8736 - val_accuracy: 0.6826\n",
            "Epoch 4/10\n",
            "92/92 [==============================] - 8s 83ms/step - loss: 0.5741 - accuracy: 0.7834 - val_loss: 0.9518 - val_accuracy: 0.6935\n",
            "Epoch 5/10\n",
            "92/92 [==============================] - 8s 83ms/step - loss: 0.3627 - accuracy: 0.8794 - val_loss: 1.1171 - val_accuracy: 0.6662\n",
            "Epoch 6/10\n",
            "92/92 [==============================] - 8s 82ms/step - loss: 0.2259 - accuracy: 0.9254 - val_loss: 1.2208 - val_accuracy: 0.6866\n",
            "Epoch 7/10\n",
            "92/92 [==============================] - 8s 84ms/step - loss: 0.1181 - accuracy: 0.9629 - val_loss: 1.5442 - val_accuracy: 0.6703\n",
            "Epoch 8/10\n",
            "92/92 [==============================] - 8s 83ms/step - loss: 0.0666 - accuracy: 0.9809 - val_loss: 1.7572 - val_accuracy: 0.6757\n",
            "Epoch 9/10\n",
            "92/92 [==============================] - 8s 83ms/step - loss: 0.0868 - accuracy: 0.9775 - val_loss: 1.8252 - val_accuracy: 0.6512\n",
            "Epoch 10/10\n",
            "92/92 [==============================] - 8s 83ms/step - loss: 0.0537 - accuracy: 0.9877 - val_loss: 1.9255 - val_accuracy: 0.6267\n",
            "INFO:tensorflow:Assets written to: my_flower_model/assets\n"
          ]
        }
      ]
    },
    {
      "cell_type": "code",
      "metadata": {
        "colab": {
          "base_uri": "https://localhost:8080/"
        },
        "id": "bt6UbW0Vq84a",
        "outputId": "4df2db56-f645-4ae3-9bfd-63d6ba81d6ea"
      },
      "source": [
        "!zip -r my_flower_model.zip my_flower_model/"
      ],
      "execution_count": 3,
      "outputs": [
        {
          "output_type": "stream",
          "name": "stdout",
          "text": [
            "  adding: my_flower_model/ (stored 0%)\n",
            "  adding: my_flower_model/variables/ (stored 0%)\n",
            "  adding: my_flower_model/variables/variables.index (deflated 65%)\n",
            "  adding: my_flower_model/variables/variables.data-00000-of-00001 (deflated 22%)\n",
            "  adding: my_flower_model/assets/ (stored 0%)\n",
            "  adding: my_flower_model/saved_model.pb (deflated 89%)\n",
            "  adding: my_flower_model/keras_metadata.pb (deflated 91%)\n"
          ]
        }
      ]
    },
    {
      "cell_type": "code",
      "metadata": {
        "colab": {
          "base_uri": "https://localhost:8080/"
        },
        "id": "NX-nw9zlrDoC",
        "outputId": "da236387-ab63-432b-b020-4f71d2c9b4af"
      },
      "source": [
        "ls"
      ],
      "execution_count": 5,
      "outputs": [
        {
          "output_type": "stream",
          "name": "stdout",
          "text": [
            "\u001b[0m\u001b[01;34mmy_flower_model\u001b[0m/  my_flower_model.zip  \u001b[01;34msample_data\u001b[0m/\n"
          ]
        }
      ]
    },
    {
      "cell_type": "code",
      "metadata": {
        "id": "9FC7nkxmyZez"
      },
      "source": [
        ""
      ],
      "execution_count": null,
      "outputs": []
    }
  ]
}